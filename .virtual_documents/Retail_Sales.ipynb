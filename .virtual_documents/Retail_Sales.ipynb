


#Load the dataset using Pandas
import pandas as pd

# Load the dataset
df = pd.read_csv('Retail_sales.csv')


# Preview the dataset
df.head()


# Checking for missing values 
df.isnull().sum()


# Checking for duplicates
df.duplicated()


# Flag all duplicates
duplicates = df.duplicated().sum()


# Basic summary of the dataset
df.info()


# Checking numerical statistics
df.describe()


# Unique counts for categorical columns
categorical_columns = ['Store Location', 'Product Category', 'Day of the Week', 'Holiday Effect']
for col in categorical_columns:
    print(f"Unique values in {col}: {df[col].nunique()}")





# Total sales revenue
total_revenue = df['Sales Revenue (USD)'].sum()
print(f"Total Sales Revenue: ${total_revenue:,.2f}")


# Total units sold
total_units = df['Units Sold'].sum()
print(f"Total Units Sold: {total_units}")


# Average discount percentage
avg_discount = df['Discount Percentage'].mean()
print(f"Average Discount Percentage: {avg_discount:.2f}%")


# Total revenue by Product Category
revenue_by_category = df.groupby('Product Category')['Sales Revenue (USD)'].sum().sort_values(ascending=False)
print("Revenue by Product Category:\n", revenue_by_category)


# Average units sold by Store Location
avg_units_by_location = df.groupby('Store Location')['Units Sold'].mean().sort_values(ascending=False)
print("Average Units Sold by Store Location:\n", avg_units_by_location)


# Best-performing product based on total sales revenue
best_product = df.groupby('Product ID')['Sales Revenue (USD)'].sum().idxmax()
best_product_sales = df.groupby('Product ID')['Sales Revenue (USD)'].sum().max()
print(f"Best-Performing Product ID: {best_product} with sales of ${best_product_sales:,.2f}")






# Sales Revenue trends over time
df['Date'] = pd.to_datetime(df['Date'])  # Ensures the 'Date' column is in datetime format
sales_trends = df.groupby('Date')['Sales Revenue (USD)'].sum()
print("Sales Trends Over Time:")
print(sales_trends.head())  


# Total revenue by day of the week
revenue_by_day = df.groupby('Day of the Week')['Sales Revenue (USD)'].sum()
print("Revenue by Day of the Week:\n", revenue_by_day)





# 1. Revenue by Product Category
import matplotlib.pyplot as plt
import seaborn as sns

revenue_by_category.plot(kind='bar', color='skyblue', title='Revenue by Product Category', figsize=(8, 6))
plt.ylabel('Sales Revenue (USD)')
plt.show()


# Revenue Trends Over Time
daily_revenue.plot(kind='line', title='Daily Revenue Trends', figsize=(10, 6), color='green')
plt.ylabel('Sales Revenue (USD)')
plt.xlabel('Date')
plt.show()


# Revenue by Day of the Week
sns.barplot(x=revenue_by_day.index, y=revenue_by_day.values, palette='viridis')
plt.title('Revenue by Day of the Week')
plt.ylabel('Sales Revenue (USD)')
plt.xlabel('Day of the Week')
plt.show()


# Distribution of Discounts
sns.histplot(df['Discount Percentage'], kde=True, bins=20, color='purple')
plt.title('Distribution of Discount Percentages')
plt.xlabel('Discount Percentage')
plt.ylabel('Frequency')
plt.show()


# Revenue vs Marketing Spend
sns.scatterplot(data=df, x='Marketing Spend (USD)', y='Sales Revenue (USD)', hue='Holiday Effect', palette='cool')
plt.title('Revenue vs Marketing Spend')
plt.xlabel('Marketing Spend (USD)')
plt.ylabel('Sales Revenue (USD)')
plt.show()





#  Feature analysis Sales per Unit
df['Revenue per Unit'] = df['Sales Revenue (USD)'] / df['Units Sold']
print(df[['Product ID', 'Revenue per Unit']].head())


# Compare High Discount vs Low Discount Performance
# Categorize rows based on discount percentage
df['Discount Category'] = df['Discount Percentage'].apply(lambda x: 'High Discount' if x > 10 else 'Low Discount')

# Average revenue by discount category
avg_revenue_by_discount = df.groupby('Discount Category')['Sales Revenue (USD)'].mean()
print("Average Revenue by Discount Category:\n", avg_revenue_by_discount)


# Compare Holiday vs Non-Holiday Revenue
holiday_revenue = df.groupby('Holiday Effect')['Sales Revenue (USD)'].sum()
print("Holiday vs Non-Holiday Revenue:\n", holiday_revenue)


# Identifying Top Performing Products
# Top 5 products by revenue
top_products = df.groupby('Product ID')['Sales Revenue (USD)'].sum().sort_values(ascending=False).head(5)
print("Top 5 Products by Revenue:\n", top_products)


#  Correlation Analysis
# Correlation matrix
correlation_matrix = df[['Units Sold', 'Sales Revenue (USD)', 'Discount Percentage', 'Marketing Spend (USD)']].corr()
sns.heatmap(correlation_matrix, annot=True, cmap='coolwarm')
plt.title('Correlation Matrix')
plt.show()



